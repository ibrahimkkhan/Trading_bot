{
 "cells": [
  {
   "cell_type": "code",
   "execution_count": 2,
   "metadata": {},
   "outputs": [
    {
     "name": "stdout",
     "output_type": "stream",
     "text": [
      "Requirement already satisfied: yfinance in ./opt/anaconda3/lib/python3.8/site-packages (0.1.59)\n",
      "Requirement already satisfied: multitasking>=0.0.7 in ./opt/anaconda3/lib/python3.8/site-packages (from yfinance) (0.0.9)\n",
      "Requirement already satisfied: lxml>=4.5.1 in ./opt/anaconda3/lib/python3.8/site-packages (from yfinance) (4.6.1)\n",
      "Requirement already satisfied: requests>=2.20 in ./opt/anaconda3/lib/python3.8/site-packages (from yfinance) (2.24.0)\n",
      "Requirement already satisfied: numpy>=1.15 in ./opt/anaconda3/lib/python3.8/site-packages (from yfinance) (1.19.2)\n",
      "Requirement already satisfied: pandas>=0.24 in ./opt/anaconda3/lib/python3.8/site-packages (from yfinance) (1.1.3)\n",
      "Requirement already satisfied: urllib3!=1.25.0,!=1.25.1,<1.26,>=1.21.1 in ./opt/anaconda3/lib/python3.8/site-packages (from requests>=2.20->yfinance) (1.25.11)\n",
      "Requirement already satisfied: idna<3,>=2.5 in ./opt/anaconda3/lib/python3.8/site-packages (from requests>=2.20->yfinance) (2.10)\n",
      "Requirement already satisfied: certifi>=2017.4.17 in ./opt/anaconda3/lib/python3.8/site-packages (from requests>=2.20->yfinance) (2020.6.20)\n",
      "Requirement already satisfied: chardet<4,>=3.0.2 in ./opt/anaconda3/lib/python3.8/site-packages (from requests>=2.20->yfinance) (3.0.4)\n",
      "Requirement already satisfied: python-dateutil>=2.7.3 in ./opt/anaconda3/lib/python3.8/site-packages (from pandas>=0.24->yfinance) (2.8.1)\n",
      "Requirement already satisfied: pytz>=2017.2 in ./opt/anaconda3/lib/python3.8/site-packages (from pandas>=0.24->yfinance) (2020.1)\n",
      "Requirement already satisfied: six>=1.5 in ./opt/anaconda3/lib/python3.8/site-packages (from python-dateutil>=2.7.3->pandas>=0.24->yfinance) (1.15.0)\n",
      "Requirement already satisfied: mpl_finance in ./opt/anaconda3/lib/python3.8/site-packages (0.10.1)\n",
      "Requirement already satisfied: matplotlib in ./opt/anaconda3/lib/python3.8/site-packages (from mpl_finance) (3.3.2)\n",
      "Requirement already satisfied: certifi>=2020.06.20 in ./opt/anaconda3/lib/python3.8/site-packages (from matplotlib->mpl_finance) (2020.6.20)\n",
      "Requirement already satisfied: pyparsing!=2.0.4,!=2.1.2,!=2.1.6,>=2.0.3 in ./opt/anaconda3/lib/python3.8/site-packages (from matplotlib->mpl_finance) (2.4.7)\n",
      "Requirement already satisfied: numpy>=1.15 in ./opt/anaconda3/lib/python3.8/site-packages (from matplotlib->mpl_finance) (1.19.2)\n",
      "Requirement already satisfied: pillow>=6.2.0 in ./opt/anaconda3/lib/python3.8/site-packages (from matplotlib->mpl_finance) (8.0.1)\n",
      "Requirement already satisfied: cycler>=0.10 in ./opt/anaconda3/lib/python3.8/site-packages (from matplotlib->mpl_finance) (0.10.0)\n",
      "Requirement already satisfied: python-dateutil>=2.1 in ./opt/anaconda3/lib/python3.8/site-packages (from matplotlib->mpl_finance) (2.8.1)\n",
      "Requirement already satisfied: kiwisolver>=1.0.1 in ./opt/anaconda3/lib/python3.8/site-packages (from matplotlib->mpl_finance) (1.3.0)\n",
      "Requirement already satisfied: six in ./opt/anaconda3/lib/python3.8/site-packages (from cycler>=0.10->matplotlib->mpl_finance) (1.15.0)\n"
     ]
    }
   ],
   "source": [
    "!pip install yfinance\n",
    "\n",
    "!pip install mpl_finance"
   ]
  },
  {
   "cell_type": "code",
   "execution_count": 3,
   "metadata": {},
   "outputs": [
    {
     "name": "stdout",
     "output_type": "stream",
     "text": [
      "Requirement already up-to-date: mplfinance in ./opt/anaconda3/lib/python3.8/site-packages (0.12.7a12)\n",
      "Requirement already satisfied, skipping upgrade: pandas in ./opt/anaconda3/lib/python3.8/site-packages (from mplfinance) (1.1.3)\n",
      "Requirement already satisfied, skipping upgrade: matplotlib in ./opt/anaconda3/lib/python3.8/site-packages (from mplfinance) (3.3.2)\n",
      "Requirement already satisfied, skipping upgrade: pytz>=2017.2 in ./opt/anaconda3/lib/python3.8/site-packages (from pandas->mplfinance) (2020.1)\n",
      "Requirement already satisfied, skipping upgrade: python-dateutil>=2.7.3 in ./opt/anaconda3/lib/python3.8/site-packages (from pandas->mplfinance) (2.8.1)\n",
      "Requirement already satisfied, skipping upgrade: numpy>=1.15.4 in ./opt/anaconda3/lib/python3.8/site-packages (from pandas->mplfinance) (1.19.2)\n",
      "Requirement already satisfied, skipping upgrade: cycler>=0.10 in ./opt/anaconda3/lib/python3.8/site-packages (from matplotlib->mplfinance) (0.10.0)\n",
      "Requirement already satisfied, skipping upgrade: certifi>=2020.06.20 in ./opt/anaconda3/lib/python3.8/site-packages (from matplotlib->mplfinance) (2020.6.20)\n",
      "Requirement already satisfied, skipping upgrade: kiwisolver>=1.0.1 in ./opt/anaconda3/lib/python3.8/site-packages (from matplotlib->mplfinance) (1.3.0)\n",
      "Requirement already satisfied, skipping upgrade: pillow>=6.2.0 in ./opt/anaconda3/lib/python3.8/site-packages (from matplotlib->mplfinance) (8.0.1)\n",
      "Requirement already satisfied, skipping upgrade: pyparsing!=2.0.4,!=2.1.2,!=2.1.6,>=2.0.3 in ./opt/anaconda3/lib/python3.8/site-packages (from matplotlib->mplfinance) (2.4.7)\n",
      "Requirement already satisfied, skipping upgrade: six>=1.5 in ./opt/anaconda3/lib/python3.8/site-packages (from python-dateutil>=2.7.3->pandas->mplfinance) (1.15.0)\n",
      "Note: you may need to restart the kernel to use updated packages.\n"
     ]
    }
   ],
   "source": [
    "pip install --upgrade mplfinance"
   ]
  },
  {
   "cell_type": "code",
   "execution_count": 15,
   "metadata": {},
   "outputs": [],
   "source": [
    "import pandas as pd\n",
    "import numpy as np\n",
    "import yfinance\n",
    "from mpl_finance import candlestick_ohlc\n",
    "import matplotlib.dates as mpl_dates\n",
    "import matplotlib.pyplot as plt\n",
    "from datetime import date\n",
    "\n",
    "plt.rcParams['figure.figsize'] = [12, 7]\n",
    "\n",
    "plt.rc('font', size=14)"
   ]
  },
  {
   "cell_type": "code",
   "execution_count": 20,
   "metadata": {},
   "outputs": [
    {
     "name": "stdout",
     "output_type": "stream",
     "text": [
      "                   Open         High          Low        Close   Volume  \\\n",
      "Date                                                                      \n",
      "2021-01-04  1760.000000  1762.489990  1707.140015  1726.130005  1866200   \n",
      "2021-01-05  1725.089966  1746.829956  1716.900024  1740.050049  1018000   \n",
      "2021-01-06  1700.260010  1743.969971  1696.099976  1722.880005  2329400   \n",
      "2021-01-07  1726.760010  1777.819946  1726.760010  1774.339966  2096800   \n",
      "2021-01-08  1777.160034  1799.359985  1761.219971  1797.829956  1774200   \n",
      "...                 ...          ...          ...          ...      ...   \n",
      "2021-04-14  2267.429932  2267.429932  2236.020020  2241.909912  1050100   \n",
      "2021-04-15  2261.949951  2296.000000  2251.169922  2285.250000  1458700   \n",
      "2021-04-16  2289.239990  2294.239990  2270.919922  2282.750000  1313600   \n",
      "2021-04-19  2270.179932  2304.090088  2270.179932  2289.760010  1514500   \n",
      "2021-04-20  2297.489990  2299.000000  2257.120117  2279.010010  1113400   \n",
      "\n",
      "            Dividends  Stock Splits  \n",
      "Date                                 \n",
      "2021-01-04          0             0  \n",
      "2021-01-05          0             0  \n",
      "2021-01-06          0             0  \n",
      "2021-01-07          0             0  \n",
      "2021-01-08          0             0  \n",
      "...               ...           ...  \n",
      "2021-04-14          0             0  \n",
      "2021-04-15          0             0  \n",
      "2021-04-16          0             0  \n",
      "2021-04-19          0             0  \n",
      "2021-04-20          0             0  \n",
      "\n",
      "[74 rows x 7 columns]\n"
     ]
    }
   ],
   "source": [
    "name = 'GOOGL'\n",
    "today = date.today()\n",
    "ticker = yfinance.Ticker(name)\n",
    "\n",
    "df = ticker.history(interval=\"1d\",start=\"2021-01-01\",end=today)\n",
    "\n",
    "print(df) #Let's see how our data looks\n",
    "\n"
   ]
  },
  {
   "cell_type": "code",
   "execution_count": 22,
   "metadata": {},
   "outputs": [
    {
     "name": "stdout",
     "output_type": "stream",
     "text": [
      "                   Open         High          Low        Close\n",
      "Date                                                          \n",
      "2021-01-04  1760.000000  1762.489990  1707.140015  1726.130005\n",
      "2021-01-05  1725.089966  1746.829956  1716.900024  1740.050049\n",
      "2021-01-06  1700.260010  1743.969971  1696.099976  1722.880005\n",
      "2021-01-07  1726.760010  1777.819946  1726.760010  1774.339966\n",
      "2021-01-08  1777.160034  1799.359985  1761.219971  1797.829956\n",
      "...                 ...          ...          ...          ...\n",
      "2021-04-14  2267.429932  2267.429932  2236.020020  2241.909912\n",
      "2021-04-15  2261.949951  2296.000000  2251.169922  2285.250000\n",
      "2021-04-16  2289.239990  2294.239990  2270.919922  2282.750000\n",
      "2021-04-19  2270.179932  2304.090088  2270.179932  2289.760010\n",
      "2021-04-20  2297.489990  2299.000000  2257.120117  2279.010010\n",
      "\n",
      "[74 rows x 4 columns]\n"
     ]
    }
   ],
   "source": [
    "df = df.drop(['Volume', 'Dividends', 'Stock Splits'], axis=1)\n",
    "print (df)"
   ]
  },
  {
   "cell_type": "code",
   "execution_count": null,
   "metadata": {},
   "outputs": [],
   "source": [
    "def getSupport(df,i):\n",
    "    supportPrice = 0\n",
    "    if df['Low'][i] < df['Low'][i-1] and df['Low'][i] < df['Low'][i+1] and df['Low'][i+1] < df['Low'][i+2] and df['Low'][i-1] < df['Low'][i-2]:\n",
    "        supportPrice = df['Low'][i]\n",
    "    \n",
    "    return supportPrice\n",
    "    "
   ]
  },
  {
   "cell_type": "code",
   "execution_count": 30,
   "metadata": {},
   "outputs": [],
   "source": [
    "def getResistance(df,i):\n",
    "    resistancePrice = 0\n",
    "    if df['High'][i] > df['High'][i-1] and df['High'][i] > df['High'][i+1] and df['High'][i+1] > df['High'][i+2] and df['High'][i-1] > df['High'][i-2]:\n",
    "        resistancePrice = df['High'][i]\n",
    "        \n",
    "    return resistancePrice"
   ]
  },
  {
   "cell_type": "code",
   "execution_count": 51,
   "metadata": {},
   "outputs": [
    {
     "data": {
      "text/plain": [
       "[(4, 1799.3599853515625),\n",
       " (9, 1711.7099609375),\n",
       " (29, 2145.139892578125),\n",
       " (37, 2001.010009765625),\n",
       " (39, 2094.739990234375),\n",
       " (43, 2113.739990234375),\n",
       " (52, 2002.9300537109375),\n",
       " (55, 2067.60009765625)]"
      ]
     },
     "execution_count": 51,
     "metadata": {},
     "output_type": "execute_result"
    }
   ],
   "source": [
    "allPrices = []\n",
    "for i in range(2, df.shape[0] - 2):\n",
    "    supportPrice = getSupport(df,i)\n",
    "    resistantPrice = getResistance(df,i)\n",
    "    if supportPrice != 0:\n",
    "        allPrices.append((i,supportPrice))\n",
    "    elif resistantPrice != 0:\n",
    "        allPrices.append((i,resistantPrice))\n",
    "        \n",
    "allPrices"
   ]
  },
  {
   "cell_type": "code",
   "execution_count": 66,
   "metadata": {},
   "outputs": [
    {
     "data": {
      "text/html": [
       "<div>\n",
       "<style scoped>\n",
       "    .dataframe tbody tr th:only-of-type {\n",
       "        vertical-align: middle;\n",
       "    }\n",
       "\n",
       "    .dataframe tbody tr th {\n",
       "        vertical-align: top;\n",
       "    }\n",
       "\n",
       "    .dataframe thead th {\n",
       "        text-align: right;\n",
       "    }\n",
       "</style>\n",
       "<table border=\"1\" class=\"dataframe\">\n",
       "  <thead>\n",
       "    <tr style=\"text-align: right;\">\n",
       "      <th></th>\n",
       "      <th>Date</th>\n",
       "      <th>Open</th>\n",
       "      <th>High</th>\n",
       "      <th>Low</th>\n",
       "      <th>Close</th>\n",
       "    </tr>\n",
       "    <tr>\n",
       "      <th>Date</th>\n",
       "      <th></th>\n",
       "      <th></th>\n",
       "      <th></th>\n",
       "      <th></th>\n",
       "      <th></th>\n",
       "    </tr>\n",
       "  </thead>\n",
       "  <tbody>\n",
       "    <tr>\n",
       "      <th>2021-01-04</th>\n",
       "      <td>18631.0</td>\n",
       "      <td>1760.000000</td>\n",
       "      <td>1762.489990</td>\n",
       "      <td>1707.140015</td>\n",
       "      <td>1726.130005</td>\n",
       "    </tr>\n",
       "    <tr>\n",
       "      <th>2021-01-05</th>\n",
       "      <td>18632.0</td>\n",
       "      <td>1725.089966</td>\n",
       "      <td>1746.829956</td>\n",
       "      <td>1716.900024</td>\n",
       "      <td>1740.050049</td>\n",
       "    </tr>\n",
       "    <tr>\n",
       "      <th>2021-01-06</th>\n",
       "      <td>18633.0</td>\n",
       "      <td>1700.260010</td>\n",
       "      <td>1743.969971</td>\n",
       "      <td>1696.099976</td>\n",
       "      <td>1722.880005</td>\n",
       "    </tr>\n",
       "    <tr>\n",
       "      <th>2021-01-07</th>\n",
       "      <td>18634.0</td>\n",
       "      <td>1726.760010</td>\n",
       "      <td>1777.819946</td>\n",
       "      <td>1726.760010</td>\n",
       "      <td>1774.339966</td>\n",
       "    </tr>\n",
       "    <tr>\n",
       "      <th>2021-01-08</th>\n",
       "      <td>18635.0</td>\n",
       "      <td>1777.160034</td>\n",
       "      <td>1799.359985</td>\n",
       "      <td>1761.219971</td>\n",
       "      <td>1797.829956</td>\n",
       "    </tr>\n",
       "    <tr>\n",
       "      <th>...</th>\n",
       "      <td>...</td>\n",
       "      <td>...</td>\n",
       "      <td>...</td>\n",
       "      <td>...</td>\n",
       "      <td>...</td>\n",
       "    </tr>\n",
       "    <tr>\n",
       "      <th>2021-04-14</th>\n",
       "      <td>18731.0</td>\n",
       "      <td>2267.429932</td>\n",
       "      <td>2267.429932</td>\n",
       "      <td>2236.020020</td>\n",
       "      <td>2241.909912</td>\n",
       "    </tr>\n",
       "    <tr>\n",
       "      <th>2021-04-15</th>\n",
       "      <td>18732.0</td>\n",
       "      <td>2261.949951</td>\n",
       "      <td>2296.000000</td>\n",
       "      <td>2251.169922</td>\n",
       "      <td>2285.250000</td>\n",
       "    </tr>\n",
       "    <tr>\n",
       "      <th>2021-04-16</th>\n",
       "      <td>18733.0</td>\n",
       "      <td>2289.239990</td>\n",
       "      <td>2294.239990</td>\n",
       "      <td>2270.919922</td>\n",
       "      <td>2282.750000</td>\n",
       "    </tr>\n",
       "    <tr>\n",
       "      <th>2021-04-19</th>\n",
       "      <td>18736.0</td>\n",
       "      <td>2270.179932</td>\n",
       "      <td>2304.090088</td>\n",
       "      <td>2270.179932</td>\n",
       "      <td>2289.760010</td>\n",
       "    </tr>\n",
       "    <tr>\n",
       "      <th>2021-04-20</th>\n",
       "      <td>18737.0</td>\n",
       "      <td>2297.489990</td>\n",
       "      <td>2299.000000</td>\n",
       "      <td>2257.120117</td>\n",
       "      <td>2279.010010</td>\n",
       "    </tr>\n",
       "  </tbody>\n",
       "</table>\n",
       "<p>74 rows × 5 columns</p>\n",
       "</div>"
      ],
      "text/plain": [
       "               Date         Open         High          Low        Close\n",
       "Date                                                                   \n",
       "2021-01-04  18631.0  1760.000000  1762.489990  1707.140015  1726.130005\n",
       "2021-01-05  18632.0  1725.089966  1746.829956  1716.900024  1740.050049\n",
       "2021-01-06  18633.0  1700.260010  1743.969971  1696.099976  1722.880005\n",
       "2021-01-07  18634.0  1726.760010  1777.819946  1726.760010  1774.339966\n",
       "2021-01-08  18635.0  1777.160034  1799.359985  1761.219971  1797.829956\n",
       "...             ...          ...          ...          ...          ...\n",
       "2021-04-14  18731.0  2267.429932  2267.429932  2236.020020  2241.909912\n",
       "2021-04-15  18732.0  2261.949951  2296.000000  2251.169922  2285.250000\n",
       "2021-04-16  18733.0  2289.239990  2294.239990  2270.919922  2282.750000\n",
       "2021-04-19  18736.0  2270.179932  2304.090088  2270.179932  2289.760010\n",
       "2021-04-20  18737.0  2297.489990  2299.000000  2257.120117  2279.010010\n",
       "\n",
       "[74 rows x 5 columns]"
      ]
     },
     "execution_count": 66,
     "metadata": {},
     "output_type": "execute_result"
    }
   ],
   "source": [
    "df['Date'] = pd.to_datetime(df.index)\n",
    "df['Date'] = df['Date'].apply(mpl_dates.date2num)\n",
    "df = df.loc[:,['Date', 'Open', 'High', 'Low', 'Close']]\n",
    "df"
   ]
  },
  {
   "cell_type": "code",
   "execution_count": 120,
   "metadata": {},
   "outputs": [
    {
     "data": {
      "text/plain": [
       "[(4, 1799.3599853515625),\n",
       " (9, 1711.7099609375),\n",
       " (29, 2145.139892578125),\n",
       " (37, 2001.010009765625),\n",
       " (39, 2094.739990234375)]"
      ]
     },
     "execution_count": 120,
     "metadata": {},
     "output_type": "execute_result"
    }
   ],
   "source": [
    "#get rid of prices near to one another reduce noise\n",
    "\n",
    "mean =  np.mean(df['High'] - df['Low']) #rough estimate of volatility\n",
    "\n",
    "allPrices = [] \n",
    "\n",
    "for i in range(2, df.shape[0] - 2):\n",
    "    supportPrice = getSupport(df,i)\n",
    "    resistantPrice = getResistance(df,i)\n",
    "    if supportPrice != 0:\n",
    "        if np.sum([abs(supportPrice-x) < mean for x in allPrices]) == 0:\n",
    "            allPrices.append((i,supportPrice))\n",
    "    elif resistantPrice != 0:\n",
    "        if np.sum([abs(resistantPrice-x) < mean for x in allPrices]) == 0:\n",
    "            allPrices.append((i,resistantPrice))\n",
    "        \n",
    "allPrices"
   ]
  },
  {
   "cell_type": "code",
   "execution_count": 118,
   "metadata": {},
   "outputs": [],
   "source": [
    "def plot_all():\n",
    "  fig, ax = plt.subplots()\n",
    "\n",
    "  candlestick_ohlc(ax,df.values,width=0.6,colorup='green', colordown='red', alpha=1)\n",
    "\n",
    "  date_format = mpl_dates.DateFormatter('%d %b %Y')\n",
    "  ax.xaxis.set_major_formatter(date_format)\n",
    "\n",
    "    \n",
    "  for level in allPrices:\n",
    "    plt.hlines(level[1],xmin=df['Date'][level[0]],\\\n",
    "               xmax=max(df['Date']),colors='blue')"
   ]
  },
  {
   "cell_type": "code",
   "execution_count": 119,
   "metadata": {},
   "outputs": [
    {
     "data": {
      "image/png": "[encoded data removed]",
      "text/plain": [
       "<Figure size 864x504 with 1 Axes>"
      ]
     },
     "metadata": {
      "needs_background": "light"
     },
     "output_type": "display_data"
    }
   ],
   "source": [
    "plot_all()"
   ]
  },
  {
   "cell_type": "code",
   "execution_count": 116,
   "metadata": {},
   "outputs": [],
   "source": [
    "\n"
   ]
  },
  {
   "cell_type": "code",
   "execution_count": null,
   "metadata": {},
   "outputs": [],
   "source": []
  },
  {
   "cell_type": "code",
   "execution_count": null,
   "metadata": {},
   "outputs": [],
   "source": []
  },
  {
   "cell_type": "code",
   "execution_count": null,
   "metadata": {},
   "outputs": [],
   "source": []
  }
 ],
 "metadata": {
  "kernelspec": {
   "display_name": "Python 3",
   "language": "python",
   "name": "python3"
  },
  "language_info": {
   "codemirror_mode": {
    "name": "ipython",
    "version": 3
   },
   "file_extension": ".py",
   "mimetype": "text/x-python",
   "name": "python",
   "nbconvert_exporter": "python",
   "pygments_lexer": "ipython3",
   "version": "3.8.5"
  }
 },
 "nbformat": 4,
 "nbformat_minor": 4
}
